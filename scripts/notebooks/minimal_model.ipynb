{
 "cells": [
  {
   "cell_type": "markdown",
   "metadata": {},
   "source": [
    "This is an attempt at re-implementing BERTForTokenClassification to figure out why loss is stagnant in the real model."
   ]
  },
  {
   "cell_type": "markdown",
   "metadata": {},
   "source": [
    "Here, the task is simplified to tagging words as nouns or non-nouns."
   ]
  },
  {
   "cell_type": "code",
   "execution_count": 9,
   "metadata": {},
   "outputs": [],
   "source": [
    "import torch\n",
    "import transformers\n",
    "from transformers import BertTokenizerFast\n",
    "from torch.nn.utils.rnn import pad_sequence"
   ]
  },
  {
   "cell_type": "code",
   "execution_count": 5,
   "metadata": {},
   "outputs": [],
   "source": [
    "training_sentences = [\n",
    "    \"the dog jumped over the cat .\",\n",
    "    \"cats are cool .\",\n",
    "    \"the ocean contains much water .\",\n",
    "    \"the sky is blue .\"\n",
    "]\n",
    "training_labels = [\n",
    "    [0, 1, 0, 0, 0, 1, 0],\n",
    "    [1, 0, 0, 0],\n",
    "    [0, 1, 0, 0, 1, 0],\n",
    "    [0, 1, 0, 0, 0]\n",
    "]"
   ]
  },
  {
   "cell_type": "code",
   "execution_count": null,
   "metadata": {},
   "outputs": [],
   "source": [
    "test_sentences = []"
   ]
  },
  {
   "cell_type": "code",
   "execution_count": 7,
   "metadata": {},
   "outputs": [],
   "source": [
    "device = torch.device('cuda')"
   ]
  },
  {
   "cell_type": "code",
   "execution_count": 8,
   "metadata": {},
   "outputs": [],
   "source": [
    "class TokenModel(torch.nn.Module):\n",
    "    def __init__(self):\n",
    "        self.bert = transformers.BertModel.from_pretrained(\"bert-base-uncased\")\n",
    "        self.linear = torch.nn.Linear(768, 1).to(device)\n",
    "        \n",
    "    def forward(self, ids, mask, token_type_ids):\n",
    "        padded_ids = pad_sequence(ids)\n",
    "        padded_ids = padded_ids.permute(1, 0, 2).to(self.device)\n",
    "        padded_masks = pad_sequence(mask)\n",
    "        padded_masks = padded_masks.permute(1, 0, 2).to(self.device)\n",
    "        padded_token_type_ids = pad_sequence(token_type_ids)\n",
    "        padded_token_type_ids = padded_token_type_ids.permute(1, 0, 2).to(self.device)\n",
    "        \n",
    "        results = self.bert(ids, attention_mask=mask, token_type_ids=token_type_ids)\n",
    "        last_hidden_state = results[\"last_hidden_state\"]\n",
    "        "
   ]
  },
  {
   "cell_type": "code",
   "execution_count": 31,
   "metadata": {},
   "outputs": [],
   "source": [
    "loss_func = torch.nn.BCEWithLogitsLoss()"
   ]
  },
  {
   "cell_type": "code",
   "execution_count": 20,
   "metadata": {},
   "outputs": [
    {
     "data": {
      "text/plain": [
       "tensor([0, 0, 0, 1, 0, 0, 0, 0, 1, 0, 0, 0, 0, 0, 0, 0, 0, 0])"
      ]
     },
     "execution_count": 20,
     "metadata": {},
     "output_type": "execute_result"
    }
   ],
   "source": [
    "targets"
   ]
  },
  {
   "cell_type": "code",
   "execution_count": 39,
   "metadata": {},
   "outputs": [],
   "source": [
    "outputs = torch.randn((18))\n",
    "targets = torch.zeros(18)\n",
    "targets[3] = 1\n",
    "targets[8] = 1\n"
   ]
  },
  {
   "cell_type": "code",
   "execution_count": 40,
   "metadata": {},
   "outputs": [
    {
     "data": {
      "text/plain": [
       "tensor(0.7861)"
      ]
     },
     "execution_count": 40,
     "metadata": {},
     "output_type": "execute_result"
    }
   ],
   "source": [
    "loss_func(outputs, targets)"
   ]
  },
  {
   "cell_type": "code",
   "execution_count": 18,
   "metadata": {},
   "outputs": [
    {
     "data": {
      "text/plain": [
       "tensor([[ 0.7014],\n",
       "        [ 0.6054],\n",
       "        [-0.1036],\n",
       "        [-0.4904],\n",
       "        [ 1.6244],\n",
       "        [-1.4295],\n",
       "        [ 1.4354],\n",
       "        [ 0.3189],\n",
       "        [-1.2940],\n",
       "        [ 0.0971],\n",
       "        [-1.0361],\n",
       "        [-0.6049],\n",
       "        [ 0.0518],\n",
       "        [-1.3608],\n",
       "        [ 1.3989],\n",
       "        [-0.8583],\n",
       "        [-1.2326],\n",
       "        [ 0.8343]])"
      ]
     },
     "execution_count": 18,
     "metadata": {},
     "output_type": "execute_result"
    }
   ],
   "source": [
    "outputs"
   ]
  }
 ],
 "metadata": {
  "kernelspec": {
   "display_name": "hipool",
   "language": "python",
   "name": "python3"
  },
  "language_info": {
   "codemirror_mode": {
    "name": "ipython",
    "version": 3
   },
   "file_extension": ".py",
   "mimetype": "text/x-python",
   "name": "python",
   "nbconvert_exporter": "python",
   "pygments_lexer": "ipython3",
   "version": "3.9.17"
  },
  "orig_nbformat": 4
 },
 "nbformat": 4,
 "nbformat_minor": 2
}
